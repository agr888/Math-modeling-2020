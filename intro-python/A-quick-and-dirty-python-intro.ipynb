{
 "cells": [
  {
   "cell_type": "markdown",
   "metadata": {},
   "source": [
    "This format is called an ipython notebook. It conveniently allows us to put together blocks of text, python code, and plots. We will use this for many of our exercises. However, we will also work with plain python text files, which are a more appropriate way to develop larger codes. The notebook particularly excels at quick analysis where we want to combine coding with plots and notes on interpretation."
   ]
  },
  {
   "cell_type": "code",
   "execution_count": null,
   "metadata": {
    "collapsed": true,
    "tags": []
   },
   "outputs": [],
   "source": [
    "%pylab inline\n",
    "#This command imports much of the functionality we'll use. \n",
    "#Later on, we'll learn to import more sparingly.\n",
    "#The inline option makes plots appear inline with our code."
   ]
  },
  {
   "cell_type": "markdown",
   "metadata": {},
   "source": [
    "### Arrays"
   ]
  },
  {
   "cell_type": "markdown",
   "metadata": {},
   "source": [
    "Arrays are lists of numbers within a certain structure, much like a matrix. They can have one dimension (like a row or column matrix) or more dimensions (e.g. a 2D rectangular matrix). "
   ]
  },
  {
   "cell_type": "code",
   "execution_count": null,
   "metadata": {
    "collapsed": true
   },
   "outputs": [],
   "source": [
    "#You can create an array like this\n",
    "a = array([1,3,2,7,5,7,54])"
   ]
  },
  {
   "cell_type": "code",
   "execution_count": null,
   "metadata": {
    "collapsed": true,
    "tags": []
   },
   "outputs": [],
   "source": [
    "print(a)"
   ]
  },
  {
   "cell_type": "code",
   "execution_count": null,
   "metadata": {
    "collapsed": true,
    "tags": []
   },
   "outputs": [],
   "source": [
    "#2D array\n",
    "b = array([[1,2,3],[6,2,4],[7,4,8]])\n",
    "print(b)"
   ]
  },
  {
   "cell_type": "code",
   "execution_count": null,
   "metadata": {
    "collapsed": true,
    "tags": []
   },
   "outputs": [],
   "source": [
    "#You can also do arithmetic with arrays\n",
    "c = a*a\n",
    "print(c)"
   ]
  },
  {
   "cell_type": "code",
   "execution_count": null,
   "metadata": {
    "collapsed": true,
    "tags": []
   },
   "outputs": [],
   "source": [
    "d = 3.0*a\n",
    "print(d)"
   ]
  },
  {
   "cell_type": "markdown",
   "metadata": {},
   "source": [
    "### Array Creation"
   ]
  },
  {
   "cell_type": "markdown",
   "metadata": {},
   "source": [
    "There are several convenience functions for creating different types of arrays."
   ]
  },
  {
   "cell_type": "code",
   "execution_count": null,
   "metadata": {
    "collapsed": true,
    "tags": []
   },
   "outputs": [],
   "source": [
    "#An array of integers\n",
    "a = arange(10)\n",
    "print(a)"
   ]
  },
  {
   "cell_type": "code",
   "execution_count": null,
   "metadata": {
    "collapsed": true,
    "tags": []
   },
   "outputs": [],
   "source": [
    "#An array of zeros\n",
    "b = zeros(15)\n",
    "print(b)"
   ]
  },
  {
   "cell_type": "code",
   "execution_count": null,
   "metadata": {
    "collapsed": true,
    "tags": []
   },
   "outputs": [],
   "source": [
    "#An array with 15 elements from 0 to 2\n",
    "x = linspace(0,2,15)\n",
    "print(x)"
   ]
  },
  {
   "cell_type": "markdown",
   "metadata": {},
   "source": [
    "### Array access"
   ]
  },
  {
   "cell_type": "code",
   "execution_count": null,
   "metadata": {
    "collapsed": true,
    "tags": []
   },
   "outputs": [],
   "source": [
    "#You can access elements of an array using [i], where i is a number called an index.\n",
    "#The first element is referenced with a 0.\n",
    "#The second with a 1, etc.\n",
    "\n",
    "print(x[0])\n",
    "print(x[4])"
   ]
  },
  {
   "cell_type": "code",
   "execution_count": null,
   "metadata": {
    "collapsed": true,
    "tags": []
   },
   "outputs": [],
   "source": [
    "#You can also assign a value using an index\n",
    "print('x before assignment=',x)\n",
    "x[1] = 50\n",
    "print('x after assignment=',x)"
   ]
  },
  {
   "cell_type": "code",
   "execution_count": null,
   "metadata": {
    "collapsed": true,
    "tags": []
   },
   "outputs": [],
   "source": [
    "#You can access several elements of an array using what's called a slice\n",
    "print(x[2:4]) #Note that the second index in the range is excluded from the slice"
   ]
  },
  {
   "cell_type": "code",
   "execution_count": null,
   "metadata": {
    "collapsed": true,
    "tags": []
   },
   "outputs": [],
   "source": [
    "#They can also be open-ended\n",
    "print(x[10:])#This goes to the end"
   ]
  },
  {
   "cell_type": "code",
   "execution_count": null,
   "metadata": {
    "collapsed": true,
    "tags": []
   },
   "outputs": [],
   "source": [
    "print(x[:3])#This starts from the beginning"
   ]
  },
  {
   "cell_type": "markdown",
   "metadata": {},
   "source": [
    "### Plotting"
   ]
  },
  {
   "cell_type": "code",
   "execution_count": null,
   "metadata": {
    "collapsed": true
   },
   "outputs": [],
   "source": [
    "#It's easy to make plots in python\n",
    "\n",
    "#First, we'll create an x array from 0 to 4*pi with 50 elements\n",
    "x = linspace(0,4*pi,50)\n",
    "#Then we can calculate y according to the function we want to display\n",
    "y = sin(x)\n",
    "#Plotting is as easy as this\n",
    "plot(x,y)\n",
    "#We can add labels like this\n",
    "xlabel('x')\n",
    "ylabel('sin(x)')"
   ]
  },
  {
   "cell_type": "markdown",
   "metadata": {},
   "source": [
    "### For loops"
   ]
  },
  {
   "cell_type": "markdown",
   "metadata": {},
   "source": [
    "For loops are one of the most common code structures used in numerical modeling. They allow us to loop repeatedly through the same lines of code."
   ]
  },
  {
   "cell_type": "code",
   "execution_count": null,
   "metadata": {
    "collapsed": true,
    "tags": []
   },
   "outputs": [],
   "source": [
    "t = linspace(0,10,100)\n",
    "for time in t:\n",
    "    print(time)\n",
    "    #The program goes once through the loop for every element of the array t.\n",
    "    #Each time through the loop it updates the variable time to be equal to\n",
    "    #the next element in the array t. Here we just print out time, but we\n",
    "    #could do something more interesting."
   ]
  },
  {
   "cell_type": "code",
   "execution_count": null,
   "metadata": {
    "collapsed": true
   },
   "outputs": [],
   "source": []
  }
 ],
 "metadata": {
  "kernelspec": {
   "name": "Python 3.7.6 64-bit ('base': conda)",
   "display_name": "Python 3.7.6 64-bit ('base': conda)",
   "metadata": {
    "interpreter": {
     "hash": "dd98ccf96c3a56fec4b4bdd397410c9d15351d8e53ee0c0a274d38b71d2ef059"
    }
   }
  },
  "language_info": {
   "codemirror_mode": {
    "name": "ipython",
    "version": 2
   },
   "file_extension": ".py",
   "mimetype": "text/x-python",
   "name": "python",
   "nbconvert_exporter": "python",
   "pygments_lexer": "ipython2",
   "version": "3.7.6-final"
  }
 },
 "nbformat": 4,
 "nbformat_minor": 1
}